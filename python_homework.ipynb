{
  "nbformat": 4,
  "nbformat_minor": 0,
  "metadata": {
    "colab": {
      "name": "python homework.ipynb",
      "provenance": [],
      "include_colab_link": true
    },
    "kernelspec": {
      "name": "python3",
      "display_name": "Python 3"
    }
  },
  "cells": [
    {
      "cell_type": "markdown",
      "metadata": {
        "id": "view-in-github",
        "colab_type": "text"
      },
      "source": [
        "<a href=\"https://colab.research.google.com/github/4080E040/python-/blob/master/python_homework.ipynb\" target=\"_parent\"><img src=\"https://colab.research.google.com/assets/colab-badge.svg\" alt=\"Open In Colab\"/></a>"
      ]
    },
    {
      "cell_type": "code",
      "metadata": {
        "id": "jXPIjvtVI8H0",
        "colab_type": "code",
        "colab": {
          "base_uri": "https://localhost:8080/",
          "height": 101
        },
        "outputId": "d6099386-5190-41e8-8934-d3a2f9a1a2a7"
      },
      "source": [
        "print('     *          ')\n",
        "print('    ***         ')\n",
        "print('   *****        ')\n",
        "print('  *******       ')\n",
        "print('     *          ')"
      ],
      "execution_count": 1,
      "outputs": [
        {
          "output_type": "stream",
          "text": [
            "     *          \n",
            "    ***         \n",
            "   *****        \n",
            "  *******       \n",
            "     *          \n"
          ],
          "name": "stdout"
        }
      ]
    }
  ]
}